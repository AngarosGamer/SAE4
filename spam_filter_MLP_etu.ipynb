{
  "cells": [
    {
      "cell_type": "markdown",
      "metadata": {
        "id": "view-in-github",
        "colab_type": "text"
      },
      "source": [
        "<a href=\"https://colab.research.google.com/github/AngarosGamer/SAE4/blob/main/spam_filter_MLP_etu.ipynb\" target=\"_parent\"><img src=\"https://colab.research.google.com/assets/colab-badge.svg\" alt=\"Open In Colab\"/></a>"
      ]
    },
    {
      "cell_type": "markdown",
      "metadata": {
        "id": "b5CctyeVZ-7E"
      },
      "source": [
        "# Détection de pourriels par réseau de neurones"
      ]
    },
    {
      "cell_type": "markdown",
      "metadata": {
        "id": "xJAekMdba45_"
      },
      "source": [
        "# Objectifs du TP\n",
        "\n",
        "Le courriel indésirable, pourriel, plus communemant appelé spam, représente environ la moitié du courrier électronique mondial [https://securelist.com/spam-phishing-scam-report-2022/108692/]. Une des nombreuses techniques possibles pour les detecter et d'analyser automatiquement le contenu textuel des e-mails. Le but de ce TP est d'apprendre un modèle bayésien capable de predire si un email est un spam ou non uniquement en se basant sur le contenu textuel de l'e-mail. En particulier, vous travaillerez sur :\n",
        "1. La préparation d'un jeu de données d'e-mails\n",
        "2. La numérisation des données textuelles sous forme de vecteur numérique\n",
        "3. L'apprentissage d'un réseau de neurones\n",
        "4. L'évaluation et l'analyse des résultats de ce modèle sur un jeu de données test\n"
      ]
    },
    {
      "cell_type": "markdown",
      "metadata": {
        "id": "viDoNAo3aTdk"
      },
      "source": [
        "# Préparation du jeu de données\n",
        "\n",
        "Pour apprendre le modèle de decision nous utiliserons un ensemble d'e-mails qui ont été préalablement étiquetés comme étant des spams ou des non-spams (e-mails légitimes ou *'Ham'*)."
      ]
    },
    {
      "cell_type": "markdown",
      "metadata": {
        "id": "t4spqPOPfjmN"
      },
      "source": [
        "## Téléchargement des données"
      ]
    },
    {
      "cell_type": "code",
      "execution_count": 1,
      "metadata": {
        "id": "26a97PFPU5qN",
        "scrolled": true,
        "colab": {
          "base_uri": "https://localhost:8080/"
        },
        "outputId": "5ca5e8ec-5332-4c27-fbfb-ec10b1cca0e3"
      },
      "outputs": [
        {
          "output_type": "stream",
          "name": "stdout",
          "text": [
            "--2023-11-27 07:41:27--  https://lig-membres.imag.fr/portet/emails.csv.zip\n",
            "Resolving lig-membres.imag.fr (lig-membres.imag.fr)... 129.88.12.18, 2001:660:5301:61::18\n",
            "Connecting to lig-membres.imag.fr (lig-membres.imag.fr)|129.88.12.18|:443... connected.\n",
            "HTTP request sent, awaiting response... 200 OK\n",
            "Length: 2994798 (2.9M) [application/zip]\n",
            "Saving to: ‘emails.csv.zip’\n",
            "\n",
            "emails.csv.zip      100%[===================>]   2.86M  15.4MB/s    in 0.2s    \n",
            "\n",
            "2023-11-27 07:41:27 (15.4 MB/s) - ‘emails.csv.zip’ saved [2994798/2994798]\n",
            "\n",
            "Archive:  emails.csv.zip\n",
            "  inflating: emails.csv              \n",
            "\u001b[2K     \u001b[90m━━━━━━━━━━━━━━━━━━━━━━━━━━━━━━━━━━━━━━━━\u001b[0m \u001b[32m128.9/128.9 kB\u001b[0m \u001b[31m2.8 MB/s\u001b[0m eta \u001b[36m0:00:00\u001b[0m\n",
            "\u001b[?25h"
          ]
        }
      ],
      "source": [
        "import pandas as pd\n",
        "import numpy as np\n",
        "!wget -O emails.csv.zip --no-check-certificate https://lig-membres.imag.fr/portet/emails.csv.zip\n",
        "!unzip -o emails.csv.zip\n",
        "\n",
        "!pip install -q -U keras-tuner"
      ]
    },
    {
      "cell_type": "markdown",
      "metadata": {
        "id": "Ylx2axyIXoNl"
      },
      "source": [
        "# Chargement et préparation des données"
      ]
    },
    {
      "cell_type": "markdown",
      "metadata": {
        "id": "_uQVRDLyXoNm"
      },
      "source": [
        "Dans cette partie, vous allez reprendre les mêmes étapes de préparation des données que l'on a vu au TP précédent. Vous allez donc :\n",
        "\n",
        "- Charger les données\n",
        "- Supprimer les caractères spéciaux\n",
        "- Supprimer les chiffres\n",
        "- Supprimer les mots de moins de 3 caractères\n",
        "- Mettre tous les mots en minuscule"
      ]
    },
    {
      "cell_type": "code",
      "execution_count": 2,
      "metadata": {
        "id": "apuh-9MWXoNn"
      },
      "outputs": [],
      "source": [
        "# charger le fichier emails.csv dans un dataframe pandas\n",
        "donnees = pd.read_csv('emails.csv')"
      ]
    },
    {
      "cell_type": "code",
      "execution_count": 3,
      "metadata": {
        "id": "qnFdbluqXoNp",
        "colab": {
          "base_uri": "https://localhost:8080/"
        },
        "outputId": "3f38ff88-f3cb-4b59-e08e-b3d9afce704c"
      },
      "outputs": [
        {
          "output_type": "stream",
          "name": "stdout",
          "text": [
            "33\n"
          ]
        }
      ],
      "source": [
        "# Vérification des valeurs dupliquées\n",
        "print(donnees.duplicated().sum())\n"
      ]
    },
    {
      "cell_type": "code",
      "execution_count": 4,
      "metadata": {
        "id": "KWW4njZgXoNr"
      },
      "outputs": [],
      "source": [
        "# Suppression des valeurs dupliquées\n",
        "donnees.drop_duplicates(inplace=True)"
      ]
    },
    {
      "cell_type": "code",
      "execution_count": 5,
      "metadata": {
        "id": "NaGTMOidXoNs"
      },
      "outputs": [],
      "source": [
        "# Mettre en minuscule\n",
        "def to_lower(text):\n",
        "    return text.lower()"
      ]
    },
    {
      "cell_type": "code",
      "execution_count": 6,
      "metadata": {
        "id": "_7EJ-zA4XoNt"
      },
      "outputs": [],
      "source": [
        "# application de la fonction au dataframe\n",
        "donnees['text'] = donnees['text'].apply(to_lower)"
      ]
    },
    {
      "cell_type": "code",
      "execution_count": 7,
      "metadata": {
        "id": "LgNpO0uiXoNv"
      },
      "outputs": [],
      "source": [
        "# Suppressions des caractères spéciaux et de la ponctuation\n",
        "import string\n",
        "\n",
        "def remove_punctuation(text):\n",
        "    return ''.join([c for c in text if c not in string.punctuation])"
      ]
    },
    {
      "cell_type": "code",
      "execution_count": 8,
      "metadata": {
        "id": "09hm1THXXoNw"
      },
      "outputs": [],
      "source": [
        "# apply the function to the dataframe\n",
        "donnees['text'] = donnees['text'].apply(remove_punctuation)"
      ]
    },
    {
      "cell_type": "code",
      "execution_count": 9,
      "metadata": {
        "id": "9SN_rL3OXoNw"
      },
      "outputs": [],
      "source": [
        "# suppression des mots de moins de 3 lettres\n",
        "\n",
        "def remove_short_words(text):\n",
        "    return ' '.join([w for w in text.split() if len(w)>2])"
      ]
    },
    {
      "cell_type": "code",
      "execution_count": 10,
      "metadata": {
        "id": "EdI0AaPtXoNx"
      },
      "outputs": [],
      "source": [
        "# application de la fonction au dataframe\n",
        "donnees['text'] = donnees['text'].apply(remove_short_words)"
      ]
    },
    {
      "cell_type": "code",
      "execution_count": 12,
      "metadata": {
        "id": "f7GiSAn7XoNx"
      },
      "outputs": [],
      "source": [
        "# suppression des chiffres\n",
        "def remove_numbers(text):\n",
        "    return ''.join([c for c in text if not c.isdigit()])"
      ]
    },
    {
      "cell_type": "code",
      "execution_count": 13,
      "metadata": {
        "id": "fNKxKnipXoNy"
      },
      "outputs": [],
      "source": [
        "# application de la fonction au dataframe\n",
        "donnees['text'] = donnees['text'].apply(remove_numbers)"
      ]
    },
    {
      "cell_type": "markdown",
      "metadata": {
        "id": "tWEGF98DXoNy"
      },
      "source": [
        "# Création d'un jeu de données d'entrainement et d'un jeu de données de test"
      ]
    },
    {
      "cell_type": "markdown",
      "metadata": {
        "id": "skRYHeyJXoNz"
      },
      "source": [
        "Créez un jeu de données d'entrainement et un jeu de données de test en utilisant la fonction train_test_split de sklearn. Vous utiliserez 20% des données pour le test."
      ]
    },
    {
      "cell_type": "code",
      "execution_count": 14,
      "metadata": {
        "id": "PXxukGYfXoNz",
        "colab": {
          "base_uri": "https://localhost:8080/"
        },
        "outputId": "422e7bdc-b680-4bd9-bcd2-1b4784827163"
      },
      "outputs": [
        {
          "output_type": "stream",
          "name": "stdout",
          "text": [
            "(4556,)\n"
          ]
        }
      ],
      "source": [
        "# Split donnees into train and test\n",
        "from sklearn.model_selection import train_test_split\n",
        "\n",
        "X_train, X_test, y_train, y_test = train_test_split(donnees['text'], donnees['spam'], test_size=0.2, random_state=42)\n",
        "\n",
        "\n",
        "print(X_train.shape)"
      ]
    },
    {
      "cell_type": "markdown",
      "metadata": {
        "id": "yns-jBlmXoNz"
      },
      "source": [
        "# Création d'un modèle de réseau de neurones"
      ]
    },
    {
      "cell_type": "markdown",
      "metadata": {
        "id": "a8iqPRZXXoN0"
      },
      "source": [
        "Nous allons importer tensorflow et keras."
      ]
    },
    {
      "cell_type": "code",
      "execution_count": 15,
      "metadata": {
        "id": "pH6I97BCXoN0"
      },
      "outputs": [],
      "source": [
        "import tensorflow as tf\n",
        "from tensorflow import keras"
      ]
    },
    {
      "cell_type": "markdown",
      "metadata": {
        "id": "cplmH4u6XoN0"
      },
      "source": [
        "## Numérisation des données textuelles"
      ]
    },
    {
      "cell_type": "markdown",
      "metadata": {
        "id": "c_5v7NUXXoN1"
      },
      "source": [
        "Puisque nous travaillons sur des données textuelles, nous allons d'abord créer\n",
        "\n",
        "*   List item\n",
        "*   List item\n",
        "\n",
        "une représentation numérique de ces données. Pour cela, nous allons utiliser la couche `TextVectorization` de keras. N'hésitez pas à regarder la [documentation](https://www.tensorflow.org/api_docs/python/tf/keras/layers/TextVectorization) pour avoir plus de détails."
      ]
    },
    {
      "cell_type": "code",
      "execution_count": 23,
      "metadata": {
        "id": "DnOaFiuyXoN2"
      },
      "outputs": [],
      "source": [
        "from keras.layers import TextVectorization"
      ]
    },
    {
      "cell_type": "markdown",
      "metadata": {
        "id": "h1c8FXs5XoN2"
      },
      "source": [
        "TextVectorization permet de transformer une chaine de caractères en une liste d'entiers. Pour cela, il faut d'abord créer une instance de cette couche en lui donnant les paramètres suivants :\n",
        "- `output_mode` : le type de sortie. Nous allons spécifier `\"count\"` pour compter le nombre d'occurences de chaque mot dans le texte."
      ]
    },
    {
      "cell_type": "code",
      "execution_count": 25,
      "metadata": {
        "id": "ZAFmmh7RXoN3"
      },
      "outputs": [],
      "source": [
        "#TODO: Instanciez un objet vectorize_layer de la classe TextVectorization avec les paramètres suivants:\n",
        "# - output_mode: \"count\"\n",
        "from keras.layers import TextVectorization\n",
        "vectorize_layer = TextVectorization(output_mode =\"count\")"
      ]
    },
    {
      "cell_type": "markdown",
      "metadata": {
        "id": "dSlF4h_NXoN3"
      },
      "source": [
        "Une fois que vous avez créé la couche, vous allez appeler la méthode `adapt` en lui passant `X_train.values` en paramètre. Cela permet de créer le vocabulaire à partir des données d'entrainement."
      ]
    },
    {
      "cell_type": "markdown",
      "source": [],
      "metadata": {
        "id": "mTHlYOGzwrpV"
      }
    },
    {
      "cell_type": "code",
      "execution_count": 28,
      "metadata": {
        "id": "wRFKLmfzXoN3"
      },
      "outputs": [],
      "source": [
        "#TODO: appellez la méthode adapt sur les données d'entrainement pour créer le vocabulaire\n",
        "vectorize_layer.adapt(X_train.values)"
      ]
    },
    {
      "cell_type": "markdown",
      "metadata": {
        "id": "uU9JiSwaXoN5"
      },
      "source": [
        "Il vous faudra ensuite transformer les données d'entraînement et de test en vecteurs numériques en les passant à l'objet `vectorize_layer` que vous venez de créer.\n",
        "Pour cela, vous allez passer `X_train.values` et `X_test.values` à la méthode `vectorize_layer`. Vous aurez en sortie des matrices des représentations numériques des données d'entrainement et de test."
      ]
    },
    {
      "cell_type": "code",
      "execution_count": 39,
      "metadata": {
        "id": "yHwNAp7TXoN5"
      },
      "outputs": [],
      "source": [
        "#TODO: transformez les données d'entrainement et de test en vecteurs\n",
        "X_train.vectorized = vectorize_layer(X_train.values)\n",
        "X_test.vectorized = vectorize_layer(X_test.values)"
      ]
    },
    {
      "cell_type": "markdown",
      "metadata": {
        "id": "nPXmCcq_XoN6"
      },
      "source": [
        "Affichez la taille de ces matrices.\n",
        "\n",
        "Que preprésentent chacune des dimensions de ces matrices ?"
      ]
    },
    {
      "cell_type": "code",
      "execution_count": 41,
      "metadata": {
        "id": "14MG0A0LXoN6",
        "colab": {
          "base_uri": "https://localhost:8080/"
        },
        "outputId": "c15ab014-87bd-490d-a176-b04aa48c2f89"
      },
      "outputs": [
        {
          "output_type": "stream",
          "name": "stdout",
          "text": [
            "(4556, 30167)\n",
            "(1139, 30167)\n"
          ]
        }
      ],
      "source": [
        "#TODO: Affichez la taille des matrices\n",
        "print(np.shape(X_train.vectorized))\n",
        "print(np.shape(X_test.vectorized))"
      ]
    },
    {
      "cell_type": "markdown",
      "metadata": {
        "id": "jgHpE3spXoN6"
      },
      "source": [
        "## Création du modèle"
      ]
    },
    {
      "cell_type": "markdown",
      "metadata": {
        "id": "BgK_rqd0XoN6"
      },
      "source": [
        "Créez un modèle de réseau de neurones avec les couches suivantes :\n",
        "- Une couche d'entrée de type `InputLayer` avec `input_shape=(feature_size,)`\n",
        "- Une couche cachée de type `Dense` avec 64 neurones et une fonction d'activation `relu`\n",
        "- Une deuxième couche cachée de type `Dense` avec 32 neurones et une fonction d'activation `relu`\n",
        "- Une couche de sortie de type `Dense` avec 1 neurone et une fonction d'activation `sigmoid`"
      ]
    },
    {
      "cell_type": "code",
      "execution_count": 57,
      "metadata": {
        "id": "bDTKN_3TXoN7"
      },
      "outputs": [],
      "source": [
        "from keras.models import Sequential\n",
        "from keras.layers import Dense, InputLayer\n",
        "\n",
        "#TODO: Créez le modèle suivant la description de l'énoncé\n",
        "model = Sequential()\n",
        "feature_size = X_train.vectorized.shape[1]\n",
        "\n",
        "model.add(InputLayer(input_shape=(feature_size,)))\n",
        "model.add(Dense(64, activation=\"relu\"))\n",
        "model.add(Dense(32, activation=\"relu\"))\n",
        "model.add(Dense(1, activation=\"sigmoid\"))"
      ]
    },
    {
      "cell_type": "markdown",
      "metadata": {
        "id": "yIkTGP3-XoN7"
      },
      "source": [
        "Combien de paramètres contient ce modèle ?"
      ]
    },
    {
      "cell_type": "code",
      "execution_count": 73,
      "metadata": {
        "id": "EhZWvTB5XoN7",
        "colab": {
          "base_uri": "https://localhost:8080/"
        },
        "outputId": "c246a2cf-b3dd-4a5d-d604-cd5fa50231d2"
      },
      "outputs": [
        {
          "output_type": "stream",
          "name": "stdout",
          "text": [
            "Paramètres de la couche dense_4:\n",
            "dense_4/kernel:0: (30167, 64)\n",
            "dense_4/bias:0: (64,)\n",
            "\n",
            "\n",
            "Paramètres de la couche dense_5:\n",
            "dense_5/kernel:0: (64, 32)\n",
            "dense_5/bias:0: (32,)\n",
            "\n",
            "\n",
            "Paramètres de la couche dense_6:\n",
            "dense_6/kernel:0: (32, 1)\n",
            "dense_6/bias:0: (1,)\n",
            "\n",
            "\n"
          ]
        }
      ],
      "source": [
        "#TODO: affichez les paramètres du modèle\n",
        "X_test_vect= vectorize_layer(X_test.values)\n",
        "\n",
        "for layer in model.layers:\n",
        "    print(f\"Paramètres de la couche {layer.name}:\")\n",
        "    weights = layer.get_weights()\n",
        "    if weights:\n",
        "        for param, value in zip(layer.trainable_weights, weights):\n",
        "            print(f\"{param.name}: {value.shape}\")\n",
        "    else:\n",
        "        print(\"Cette couche n'a pas de paramètres.\")\n",
        "    print(\"\\n\")"
      ]
    },
    {
      "cell_type": "markdown",
      "metadata": {
        "id": "K_7JOhkAXoN9"
      },
      "source": [
        "Affichez une représentation graphique du modèle."
      ]
    },
    {
      "cell_type": "code",
      "execution_count": 68,
      "metadata": {
        "id": "tkl-0Vq-XoN9",
        "colab": {
          "base_uri": "https://localhost:8080/",
          "height": 422
        },
        "outputId": "5f0ff287-b739-46f3-84a3-38cd5eae05ad"
      },
      "outputs": [
        {
          "output_type": "execute_result",
          "data": {
            "image/png": "[encoded data removed]",
            "text/plain": [
              "<IPython.core.display.Image object>"
            ]
          },
          "metadata": {},
          "execution_count": 68
        }
      ],
      "source": [
        "#TODO: Affichez le plot du modèle\n",
        "from keras.models import *\n",
        "\n",
        "keras.utils.plot_model(model, \"model.png\", show_shapes=True)"
      ]
    },
    {
      "cell_type": "markdown",
      "metadata": {
        "id": "KgMzyscyXoN9"
      },
      "source": [
        "Entraînez le modèle sur les données d'entrainement en utilisant :\n",
        "- SGD comme optimiseur avec un learning rate de 0.001\n",
        "- BinaryCrossentropy comme fonction de coût\n",
        "- Accuracy comme métrique\n",
        "\n",
        "Utilisez 10 époques et une taille de lot (*batch size*) de 64. Pour la validation, utilisez 20% du jeu de données d'entraînement."
      ]
    },
    {
      "cell_type": "code",
      "execution_count": null,
      "metadata": {
        "id": "lRliMubfXoN_"
      },
      "outputs": [],
      "source": [
        "#TODO: Insérez votre d'entrainement du modèle\n",
        "model.fit(batch size = 64, 0.2)"
      ]
    },
    {
      "cell_type": "markdown",
      "metadata": {
        "id": "RljkRZ4CXoN_"
      },
      "source": [
        "Affichez les courbes d'*accuracy* et de *loss* pour les données d'entrainement et de validation.\n",
        "- Est-ce que le modèle semble avoir atteint ses meilleures performances ?"
      ]
    },
    {
      "cell_type": "code",
      "execution_count": null,
      "metadata": {
        "id": "50UmPPpLXoN_"
      },
      "outputs": [],
      "source": [
        "#TODO: Affichez les courbres d'accuracy et de loss pour durant l'entraînement et la validation\n",
        "import matplotlib.pyplot as plt\n"
      ]
    },
    {
      "cell_type": "markdown",
      "metadata": {
        "id": "Q1q56Vr3XoOA"
      },
      "source": [
        "Evaluez le modèle sur les données de test. Quelle est l'*accuracy* du modèle sur les données de test ?"
      ]
    },
    {
      "cell_type": "code",
      "execution_count": null,
      "metadata": {
        "id": "z6C78QabXoOA"
      },
      "outputs": [],
      "source": [
        "# TODO: Evaluez le modèle sur les données de test\n",
        "test_results = #TODO: complétez le code"
      ]
    },
    {
      "cell_type": "markdown",
      "metadata": {
        "id": "qm755WiXXoOB"
      },
      "source": [
        "Affichez la matrice de confusion."
      ]
    },
    {
      "cell_type": "code",
      "execution_count": null,
      "metadata": {
        "id": "53vD05eUXoOB"
      },
      "outputs": [],
      "source": [
        "#TODO: affichez la matrice de confusion et un rapport de classification\n",
        "from sklearn.metrics import confusion_matrix, ConfusionMatrixDisplay\n",
        "from sklearn.metrics import classification_report\n",
        "\n"
      ]
    },
    {
      "cell_type": "markdown",
      "metadata": {
        "id": "uxSSOpNUXoOC"
      },
      "source": [
        "# Améliorations\n",
        "\n",
        "### Recherche d'hyperparamètres\n",
        "- Utilisez `keras_tuner` pour la recherche d'hyperparamètres du modèle. Pour cela, faites varier le `learning_rate` de 0.0001 à 0.1 (multiplier par 10 à chaque fois)\n",
        "\n",
        "Plus d'information sur `keras_tuner` dans ce [tutoriel](https://www.tensorflow.org/tutorials/keras/keras_tuner?hl=fr)"
      ]
    },
    {
      "cell_type": "markdown",
      "metadata": {
        "id": "FkF-GYZNXoOB"
      },
      "source": [
        "\n",
        "\n",
        "### Modification du poids des classes\n",
        "- La méthode `fit` vous permet de modifier l'importance d'une classes par rapport à une autre durant l'entraînement. Pour cela, il suffit de passer un dictionnaire à l'argument `class_weight` de la méthode `fit`. Plus d'information dans la [documentation](https://keras.io/api/models/model_training_apis/#fit-method) de la méthode `fit`.\n",
        "\n"
      ]
    }
  ],
  "metadata": {
    "accelerator": "GPU",
    "colab": {
      "gpuType": "T4",
      "provenance": [],
      "toc_visible": true,
      "include_colab_link": true
    },
    "kernelspec": {
      "display_name": "Python 3 (ipykernel)",
      "language": "python",
      "name": "python3"
    },
    "language_info": {
      "codemirror_mode": {
        "name": "ipython",
        "version": 3
      },
      "file_extension": ".py",
      "mimetype": "text/x-python",
      "name": "python",
      "nbconvert_exporter": "python",
      "pygments_lexer": "ipython3",
      "version": "3.11.6"
    }
  },
  "nbformat": 4,
  "nbformat_minor": 0
}